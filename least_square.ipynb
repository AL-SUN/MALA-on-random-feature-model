{
 "cells": [
  {
   "cell_type": "code",
   "execution_count": 97,
   "metadata": {},
   "outputs": [
    {
     "data": {
      "text/plain": [
       "array([[ 9.67029839,  1.        , 19.40585669],\n",
       "       [ 5.47232249,  1.        , 13.27784359]])"
      ]
     },
     "execution_count": 97,
     "metadata": {},
     "output_type": "execute_result"
    }
   ],
   "source": [
    "import numpy as np\n",
    "np.random.seed(4)\n",
    "#gaussian distribution sampler: normal(mean=0.0, variance_sqrt=1.0, size=None) s = np.random.normal(0,1)\n",
    "#teacher model\n",
    "#randomly generate z=(x,y) with x evenly sampled from (0,10) and y = 1.5 x + 5, a random noise is added. A total of N samples are drawn.\n",
    "N = 2\n",
    "X=np.random.rand(N,1)*10\n",
    "Y=X*1.5+np.random.normal(0,0.1,(N,1))+5\n",
    "X=np.concatenate((X,np.ones((N,1))),axis=1)\n",
    "Z=np.concatenate((X,Y),axis=1)\n",
    "Z"
   ]
  },
  {
   "cell_type": "code",
   "execution_count": 98,
   "metadata": {},
   "outputs": [
    {
     "data": {
      "text/plain": [
       "array([76.29661859, 10.03023104])"
      ]
     },
     "execution_count": 98,
     "metadata": {},
     "output_type": "execute_result"
    }
   ],
   "source": [
    "#empirical risk\n",
    "#L_S(w,Z)\n",
    "def L_S(w,Z):\n",
    "    w = np.append(-w,1)\n",
    "    diff = Z.dot(w.T)\n",
    "    Nloss = diff.dot(diff)\n",
    "    return Nloss/N\n",
    "\n",
    "def test1(k,b,Z):\n",
    "    return np.sum((Z[:,2]-Z[:,0]*k-b)**2)/N\n",
    "\n",
    "def grad_L_S(w,Z):\n",
    "    w = np.append(-w,1)\n",
    "    diff = Z.dot(w.T)\n",
    "    return -2/N*diff.dot(Z)[0:2]\n",
    "\n",
    "def test2(k,b,Z):\n",
    "    return -2/N*(Z[:,2]-Z[:,0]*k-b).dot(Z[:,0])\n",
    "\n",
    "t1 = np.array([1.5,10])\n",
    "grad_L_S(t1,Z)\n"
   ]
  },
  {
   "cell_type": "code",
   "execution_count": 99,
   "metadata": {},
   "outputs": [
    {
     "data": {
      "text/plain": [
       "array([7629.67685911, 1003.12310423])"
      ]
     },
     "execution_count": 99,
     "metadata": {},
     "output_type": "execute_result"
    }
   ],
   "source": [
    "#minus log distribution: f\n",
    "#prar beta\n",
    "beta = 100\n",
    "#para sigma\n",
    "sigma = 10\n",
    "def f(w): #todo\n",
    "    return beta*L_S(w,Z)+(1/2/sigma**2)*(w.dot(w))\n",
    "\n",
    "def grad_f(w):\n",
    "    grad = beta*grad_L_S(w,Z)+1/sigma**2*w\n",
    "    return grad\n",
    "\n",
    "grad_f(t1)"
   ]
  },
  {
   "cell_type": "code",
   "execution_count": 100,
   "metadata": {},
   "outputs": [
    {
     "name": "stderr",
     "output_type": "stream",
     "text": [
      "C:\\Users\\lenovo\\AppData\\Roaming\\Python\\Python37\\site-packages\\ipykernel_launcher.py:8: RuntimeWarning: overflow encountered in exp\n",
      "  \n"
     ]
    },
    {
     "data": {
      "text/plain": [
       "array([1.46066577, 5.28134579])"
      ]
     },
     "execution_count": 100,
     "metadata": {},
     "output_type": "execute_result"
    }
   ],
   "source": [
    "#MCMC\n",
    "#stepsize h(h*beta=0.01)\n",
    "h = 0.0001\n",
    "w = np.ones(2)\n",
    "for i in range(5000):\n",
    "    grad_f_w = grad_f(w)\n",
    "    proposal_state = w-h*grad_f_w+np.random.normal(0,2*h,2)\n",
    "    reject_thresh = min(1,np.exp(f(w)-f(proposal_state)+(1/4/h)*(np.linalg.norm(proposal_state-w+h*grad_f_w)**2-np.linalg.norm(w-proposal_state+h*grad_f(proposal_state))**2)))\n",
    "    U = np.random.rand(1)\n",
    "    if U <= reject_thresh:\n",
    "        w = proposal_state\n",
    "w"
   ]
  }
 ],
 "metadata": {
  "kernelspec": {
   "display_name": "Python 3",
   "language": "python",
   "name": "python3"
  },
  "language_info": {
   "codemirror_mode": {
    "name": "ipython",
    "version": 3
   },
   "file_extension": ".py",
   "mimetype": "text/x-python",
   "name": "python",
   "nbconvert_exporter": "python",
   "pygments_lexer": "ipython3",
   "version": "3.7.8"
  },
  "orig_nbformat": 4
 },
 "nbformat": 4,
 "nbformat_minor": 2
}
