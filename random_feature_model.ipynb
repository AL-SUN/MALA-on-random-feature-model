{
 "cells": [
  {
   "cell_type": "code",
   "execution_count": 191,
   "metadata": {},
   "outputs": [
    {
     "name": "stdout",
     "output_type": "stream",
     "text": [
      "[-7.46531452  3.5784489  -6.39292894 ...  6.56196418 -1.86685126\n",
      "  3.70851177]\n",
      "[-7.45996833  3.57295138 -6.4065695  ...  6.58191236 -1.86125286\n",
      "  3.69766249]\n"
     ]
    }
   ],
   "source": [
    "import numpy as np\n",
    "np.random.seed(4)\n",
    "#gaussian distribution sampler: normal(mean=0.0, variance_sqrt=1.0, size=None) s = np.random.normal(0,1)\n",
    "#teacher model\n",
    "#randomly generate z=(x,y) with x evenly sampled from (0,10) and y = 1.5 x + 5, a random noise is added. A total of N samples are drawn.\n",
    "#dimension of x: d\n",
    "d = 10\n",
    "#number of training samples\n",
    "N = 2000\n",
    "#dimension of hypothesis space\n",
    "p = 10\n",
    "\n",
    "#point-wise activate function f:tanh\n",
    "#variance of random noise added to y\n",
    "sigma = 0.1\n",
    "#samples X(N*d)\n",
    "X = np.random.normal(0,1,(N,d))\n",
    "#random feature matrix F(d*p)\n",
    "F = np.random.normal(0,1,(d,p))\n",
    "#teacher parameter w(p) with lambda = ? until each dim of Y~1e0\n",
    "lambda_ = 0.000001\n",
    "w_0 = np.random.normal(0,sigma**2/lambda_/N,p)\n",
    "#X after the random feature matrix\n",
    "X_rf = np.tanh(X.dot(F)/np.sqrt(d))\n",
    "Y_pure = X_rf.dot(w_0)\n",
    "Y = Y_pure + np.random.normal(0,sigma**2,N)\n",
    "print(Y_pure)\n",
    "print(Y)"
   ]
  },
  {
   "cell_type": "code",
   "execution_count": 192,
   "metadata": {},
   "outputs": [
    {
     "data": {
      "text/plain": [
       "array([-0.02118863,  0.15274631,  0.03218446,  0.15062137,  0.1599449 ,\n",
       "        0.17776951,  0.15951735,  0.05462499,  0.04963837, -0.02631697])"
      ]
     },
     "execution_count": 192,
     "metadata": {},
     "output_type": "execute_result"
    }
   ],
   "source": [
    "#empirical risk\n",
    "#L_S(w)\n",
    "def L_S(w):\n",
    "    diff = Y-X_rf.dot(w)\n",
    "    Nloss = diff.dot(diff)\n",
    "    return Nloss/N\n",
    "\n",
    "def grad_L_S(w):\n",
    "    return -2/N*X_rf.T.dot(Y-X_rf.dot(w))\n",
    "\n",
    "grad_L_S(w_0+0.1)#when N is small, diffusion."
   ]
  },
  {
   "cell_type": "code",
   "execution_count": 193,
   "metadata": {},
   "outputs": [],
   "source": [
    "#minus log distribution: f\n",
    "#prar beta(also change h if change this)\n",
    "beta = 1000\n",
    "#para sigma_q, can be set according to N.\n",
    "sigma_q = 1\n",
    "def f(w): \n",
    "    return beta*L_S(w)+(1/2/sigma_q**2)*(w.dot(w))\n",
    "\n",
    "def grad_f(w):\n",
    "    grad = beta*grad_L_S(w)+1/sigma_q**2*w\n",
    "    return grad"
   ]
  },
  {
   "cell_type": "code",
   "execution_count": 194,
   "metadata": {},
   "outputs": [
    {
     "name": "stdout",
     "output_type": "stream",
     "text": [
      "[-1.45008745 -6.23232396  0.92529813  5.33051731  3.26004393 -1.28420206\n",
      "  4.25861759 -1.02099803 -1.75181107 -1.6217237 ]\n",
      "[-1.47924901 -6.27862105  0.91154059  5.36454552  3.26175221 -1.27554012\n",
      "  4.24965455 -1.01369899 -1.74258052 -1.64301827]\n"
     ]
    }
   ],
   "source": [
    "#MCMC\n",
    "#stepsize h(h*beta=0.01)\n",
    "h = 0.00001\n",
    "w = np.zeros(p)\n",
    "for i in range(50000):\n",
    "    grad_f_w = grad_f(w)\n",
    "    proposal_state = w-h*grad_f_w+np.random.normal(0,2*h,p)\n",
    "    reject_thresh = min(1,np.exp(f(w)-f(proposal_state)+(1/4/h)*(np.linalg.norm(proposal_state-w+h*grad_f_w)**2-np.linalg.norm(w-proposal_state+h*grad_f(proposal_state))**2)))\n",
    "    U = np.random.rand(1)\n",
    "    if U <= reject_thresh:\n",
    "        w = proposal_state\n",
    "print(w)\n",
    "print(w_0)"
   ]
  }
 ],
 "metadata": {
  "kernelspec": {
   "display_name": "Python 3",
   "language": "python",
   "name": "python3"
  },
  "language_info": {
   "codemirror_mode": {
    "name": "ipython",
    "version": 3
   },
   "file_extension": ".py",
   "mimetype": "text/x-python",
   "name": "python",
   "nbconvert_exporter": "python",
   "pygments_lexer": "ipython3",
   "version": "3.7.8"
  },
  "orig_nbformat": 4
 },
 "nbformat": 4,
 "nbformat_minor": 2
}
